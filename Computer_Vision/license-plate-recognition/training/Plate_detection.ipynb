{
  "cells": [
    {
      "cell_type": "code",
      "execution_count": null,
      "metadata": {
        "colab": {
          "base_uri": "https://localhost:8080/"
        },
        "id": "daZiL1bMG5-N",
        "outputId": "063a1f1a-a043-48af-eff3-9fd6ba92d9db"
      },
      "outputs": [
        {
          "name": "stdout",
          "output_type": "stream",
          "text": [
            "Mon Jun  6 13:53:43 2022       \n",
            "+-----------------------------------------------------------------------------+\n",
            "| NVIDIA-SMI 460.32.03    Driver Version: 460.32.03    CUDA Version: 11.2     |\n",
            "|-------------------------------+----------------------+----------------------+\n",
            "| GPU  Name        Persistence-M| Bus-Id        Disp.A | Volatile Uncorr. ECC |\n",
            "| Fan  Temp  Perf  Pwr:Usage/Cap|         Memory-Usage | GPU-Util  Compute M. |\n",
            "|                               |                      |               MIG M. |\n",
            "|===============================+======================+======================|\n",
            "|   0  Tesla T4            Off  | 00000000:00:04.0 Off |                    0 |\n",
            "| N/A   45C    P8    10W /  70W |      0MiB / 15109MiB |      0%      Default |\n",
            "|                               |                      |                  N/A |\n",
            "+-------------------------------+----------------------+----------------------+\n",
            "                                                                               \n",
            "+-----------------------------------------------------------------------------+\n",
            "| Processes:                                                                  |\n",
            "|  GPU   GI   CI        PID   Type   Process name                  GPU Memory |\n",
            "|        ID   ID                                                   Usage      |\n",
            "|=============================================================================|\n",
            "|  No running processes found                                                 |\n",
            "+-----------------------------------------------------------------------------+\n"
          ]
        }
      ],
      "source": [
        "!nvidia-smi"
      ]
    },
    {
      "cell_type": "code",
      "execution_count": null,
      "metadata": {
        "colab": {
          "base_uri": "https://localhost:8080/"
        },
        "id": "N7FARdELsygZ",
        "outputId": "f92e24a0-14d1-461c-ca61-6731bc167187"
      },
      "outputs": [],
      "source": [
        "#download plate detection data from this link https://drive.google.com/drive/folders/1vh_l4VCVZwv9f-m_0YJ2WkR9gDj1as_e?usp=sharing"
      ]
    },
    {
      "cell_type": "code",
      "execution_count": null,
      "metadata": {
        "colab": {
          "base_uri": "https://localhost:8080/"
        },
        "id": "RmUzo9umrmtf",
        "outputId": "23c0db76-006e-45b0-feb5-bbd839da9ab5"
      },
      "outputs": [
        {
          "name": "stdout",
          "output_type": "stream",
          "text": [
            "/content/drive/MyDrive\n",
            "Cloning into 'yolov5'...\n",
            "remote: Enumerating objects: 12958, done.\u001b[K\n",
            "remote: Total 12958 (delta 0), reused 0 (delta 0), pack-reused 12958\u001b[K\n",
            "Receiving objects: 100% (12958/12958), 11.82 MiB | 10.21 MiB/s, done.\n",
            "Resolving deltas: 100% (9006/9006), done.\n"
          ]
        }
      ],
      "source": [
        "!git clone https://github.com/ultralytics/yolov5  # clone"
      ]
    },
    {
      "cell_type": "code",
      "execution_count": null,
      "metadata": {
        "colab": {
          "base_uri": "https://localhost:8080/"
        },
        "id": "wbvMlHd_QwMG",
        "outputId": "f1d6ccb3-9bcb-4ef3-80a1-b912143f24b5"
      },
      "outputs": [
        {
          "name": "stdout",
          "output_type": "stream",
          "text": [
            "/content/drive/MyDrive/works/yolov5\n",
            "\u001b[K     |████████████████████████████████| 596 kB 26.4 MB/s \n",
            "\u001b[?25h"
          ]
        }
      ],
      "source": [
        "%cd yolov5\n",
        "%pip install -qr requirements.txt  # install"
      ]
    },
    {
      "cell_type": "code",
      "execution_count": null,
      "metadata": {
        "colab": {
          "base_uri": "https://localhost:8080/"
        },
        "id": "1NcFxRcFdJ_O",
        "outputId": "58c48d90-35f7-4827-b7e9-cab0a21feea9"
      },
      "outputs": [
        {
          "name": "stdout",
          "output_type": "stream",
          "text": [
            "\u001b[34m\u001b[1mtrain: \u001b[0mweights=yolov5m.pt, cfg=, data=/content/drive/MyDrive/works/yolov5/data/LP_detection.yaml, hyp=data/hyps/hyp.scratch-low.yaml, epochs=30, batch_size=32, imgsz=320, rect=False, resume=False, nosave=False, noval=False, noautoanchor=False, noplots=False, evolve=None, bucket=, cache=ram, image_weights=False, device=, multi_scale=False, single_cls=False, optimizer=SGD, sync_bn=False, workers=8, project=runs/train, name=exp, exist_ok=False, quad=False, cos_lr=False, label_smoothing=0.0, patience=100, freeze=[0], save_period=-1, local_rank=-1, entity=None, upload_dataset=False, bbox_interval=-1, artifact_alias=latest\n",
            "\u001b[34m\u001b[1mgithub: \u001b[0m⚠️ YOLOv5 is out of date by 89 commits. Use `git pull` or `git clone https://github.com/ultralytics/yolov5` to update.\n",
            "YOLOv5 🚀 v6.1-155-g404b4fe torch 1.11.0+cu113 CUDA:0 (Tesla T4, 15110MiB)\n",
            "\n",
            "\u001b[34m\u001b[1mhyperparameters: \u001b[0mlr0=0.01, lrf=0.01, momentum=0.937, weight_decay=0.0005, warmup_epochs=3.0, warmup_momentum=0.8, warmup_bias_lr=0.1, box=0.05, cls=0.5, cls_pw=1.0, obj=1.0, obj_pw=1.0, iou_t=0.2, anchor_t=4.0, fl_gamma=0.0, hsv_h=0.015, hsv_s=0.7, hsv_v=0.4, degrees=0.0, translate=0.1, scale=0.5, shear=0.0, perspective=0.0, flipud=0.0, fliplr=0.5, mosaic=1.0, mixup=0.0, copy_paste=0.0\n",
            "\u001b[34m\u001b[1mWeights & Biases: \u001b[0mrun 'pip install wandb' to automatically track and visualize YOLOv5 🚀 runs (RECOMMENDED)\n",
            "\u001b[34m\u001b[1mTensorBoard: \u001b[0mStart with 'tensorboard --logdir runs/train', view at http://localhost:6006/\n",
            "Overriding model.yaml nc=80 with nc=1\n",
            "\n",
            "                 from  n    params  module                                  arguments                     \n",
            "  0                -1  1      5280  models.common.Conv                      [3, 48, 6, 2, 2]              \n",
            "  1                -1  1     41664  models.common.Conv                      [48, 96, 3, 2]                \n",
            "  2                -1  2     65280  models.common.C3                        [96, 96, 2]                   \n",
            "  3                -1  1    166272  models.common.Conv                      [96, 192, 3, 2]               \n",
            "  4                -1  4    444672  models.common.C3                        [192, 192, 4]                 \n",
            "  5                -1  1    664320  models.common.Conv                      [192, 384, 3, 2]              \n",
            "  6                -1  6   2512896  models.common.C3                        [384, 384, 6]                 \n",
            "  7                -1  1   2655744  models.common.Conv                      [384, 768, 3, 2]              \n",
            "  8                -1  2   4134912  models.common.C3                        [768, 768, 2]                 \n",
            "  9                -1  1   1476864  models.common.SPPF                      [768, 768, 5]                 \n",
            " 10                -1  1    295680  models.common.Conv                      [768, 384, 1, 1]              \n",
            " 11                -1  1         0  torch.nn.modules.upsampling.Upsample    [None, 2, 'nearest']          \n",
            " 12           [-1, 6]  1         0  models.common.Concat                    [1]                           \n",
            " 13                -1  2   1182720  models.common.C3                        [768, 384, 2, False]          \n",
            " 14                -1  1     74112  models.common.Conv                      [384, 192, 1, 1]              \n",
            " 15                -1  1         0  torch.nn.modules.upsampling.Upsample    [None, 2, 'nearest']          \n",
            " 16           [-1, 4]  1         0  models.common.Concat                    [1]                           \n",
            " 17                -1  2    296448  models.common.C3                        [384, 192, 2, False]          \n",
            " 18                -1  1    332160  models.common.Conv                      [192, 192, 3, 2]              \n",
            " 19          [-1, 14]  1         0  models.common.Concat                    [1]                           \n",
            " 20                -1  2   1035264  models.common.C3                        [384, 384, 2, False]          \n",
            " 21                -1  1   1327872  models.common.Conv                      [384, 384, 3, 2]              \n",
            " 22          [-1, 10]  1         0  models.common.Concat                    [1]                           \n",
            " 23                -1  2   4134912  models.common.C3                        [768, 768, 2, False]          \n",
            " 24      [17, 20, 23]  1     24246  models.yolo.Detect                      [1, [[10, 13, 16, 30, 33, 23], [30, 61, 62, 45, 59, 119], [116, 90, 156, 198, 373, 326]], [192, 384, 768]]\n",
            "Model summary: 369 layers, 20871318 parameters, 20871318 gradients, 48.0 GFLOPs\n",
            "\n",
            "Transferred 475/481 items from yolov5m.pt\n",
            "Scaled weight_decay = 0.0005\n",
            "\u001b[34m\u001b[1moptimizer:\u001b[0m SGD with parameter groups 79 weight (no decay), 82 weight, 82 bias\n",
            "\u001b[34m\u001b[1malbumentations: \u001b[0mversion 1.0.3 required by YOLOv5, but version 0.1.12 is currently installed\n",
            "\u001b[34m\u001b[1mtrain: \u001b[0mScanning '/content/drive/MyDrive/works/data/LP_detection/labels/train' images and labels...6607 found, 0 missing, 0 empty, 0 corrupt: 100% 6607/6607 [00:26<00:00, 250.06it/s]\n",
            "\u001b[34m\u001b[1mtrain: \u001b[0mWARNING: /content/drive/MyDrive/works/data/LP_detection/images/train/quandoi63.jpg: corrupt JPEG restored and saved\n",
            "\u001b[34m\u001b[1mtrain: \u001b[0mNew cache created: /content/drive/MyDrive/works/data/LP_detection/labels/train.cache\n",
            "\u001b[34m\u001b[1mtrain: \u001b[0mCaching images (1.3GB ram): 100% 6607/6607 [00:29<00:00, 222.47it/s]\n",
            "\u001b[34m\u001b[1mval: \u001b[0mScanning '/content/drive/MyDrive/works/data/LP_detection/labels/val' images and labels...1652 found, 0 missing, 0 empty, 0 corrupt: 100% 1652/1652 [00:06<00:00, 237.16it/s]\n",
            "\u001b[34m\u001b[1mval: \u001b[0mNew cache created: /content/drive/MyDrive/works/data/LP_detection/labels/val.cache\n",
            "\u001b[34m\u001b[1mval: \u001b[0mCaching images (0.3GB ram): 100% 1652/1652 [00:09<00:00, 169.54it/s]\n",
            "Plotting labels to runs/train/exp56/labels.jpg... \n",
            "\n",
            "\u001b[34m\u001b[1mAutoAnchor: \u001b[0m4.45 anchors/target, 0.999 Best Possible Recall (BPR). Current anchors are a good fit to dataset ✅\n",
            "Image sizes 320 train, 320 val\n",
            "Using 2 dataloader workers\n",
            "Logging results to \u001b[1mruns/train/exp56\u001b[0m\n",
            "Starting training for 30 epochs...\n",
            "\n",
            "     Epoch   gpu_mem       box       obj       cls    labels  img_size\n",
            "      0/29     3.51G   0.06589   0.01307         0        26       320: 100% 207/207 [00:51<00:00,  3.98it/s]\n",
            "               Class     Images     Labels          P          R     mAP@.5 mAP@.5:.95: 100% 26/26 [00:06<00:00,  3.81it/s]\n",
            "                 all       1652       1667      0.867      0.836      0.891      0.377\n",
            "\n",
            "     Epoch   gpu_mem       box       obj       cls    labels  img_size\n",
            "      1/29     4.28G    0.0413   0.00834         0        29       320: 100% 207/207 [00:48<00:00,  4.29it/s]\n",
            "               Class     Images     Labels          P          R     mAP@.5 mAP@.5:.95: 100% 26/26 [00:06<00:00,  4.03it/s]\n",
            "                 all       1652       1667      0.965      0.966      0.982       0.48\n",
            "\n",
            "     Epoch   gpu_mem       box       obj       cls    labels  img_size\n",
            "      2/29     4.28G   0.03685  0.006815         0        32       320: 100% 207/207 [00:48<00:00,  4.25it/s]\n",
            "               Class     Images     Labels          P          R     mAP@.5 mAP@.5:.95: 100% 26/26 [00:06<00:00,  4.01it/s]\n",
            "                 all       1652       1667      0.989      0.979      0.992        0.6\n",
            "\n",
            "     Epoch   gpu_mem       box       obj       cls    labels  img_size\n",
            "      3/29     4.28G   0.03134  0.005835         0        36       320: 100% 207/207 [00:47<00:00,  4.36it/s]\n",
            "               Class     Images     Labels          P          R     mAP@.5 mAP@.5:.95: 100% 26/26 [00:06<00:00,  3.98it/s]\n",
            "                 all       1652       1667      0.991      0.983      0.994      0.625\n",
            "\n",
            "     Epoch   gpu_mem       box       obj       cls    labels  img_size\n",
            "      4/29     4.28G   0.02811  0.005394         0        30       320: 100% 207/207 [00:47<00:00,  4.32it/s]\n",
            "               Class     Images     Labels          P          R     mAP@.5 mAP@.5:.95: 100% 26/26 [00:06<00:00,  4.01it/s]\n",
            "                 all       1652       1667      0.992      0.986      0.993      0.659\n",
            "\n",
            "     Epoch   gpu_mem       box       obj       cls    labels  img_size\n",
            "      5/29     4.28G   0.02567  0.005057         0        29       320: 100% 207/207 [00:47<00:00,  4.32it/s]\n",
            "               Class     Images     Labels          P          R     mAP@.5 mAP@.5:.95: 100% 26/26 [00:06<00:00,  3.99it/s]\n",
            "                 all       1652       1667      0.991      0.988      0.995      0.671\n",
            "\n",
            "     Epoch   gpu_mem       box       obj       cls    labels  img_size\n",
            "      6/29     4.28G   0.02462  0.004858         0        31       320: 100% 207/207 [00:47<00:00,  4.33it/s]\n",
            "               Class     Images     Labels          P          R     mAP@.5 mAP@.5:.95: 100% 26/26 [00:06<00:00,  4.07it/s]\n",
            "                 all       1652       1667      0.995      0.989      0.994      0.669\n",
            "\n",
            "     Epoch   gpu_mem       box       obj       cls    labels  img_size\n",
            "      7/29     4.28G   0.02374  0.004781         0        29       320: 100% 207/207 [00:47<00:00,  4.34it/s]\n",
            "               Class     Images     Labels          P          R     mAP@.5 mAP@.5:.95: 100% 26/26 [00:06<00:00,  4.06it/s]\n",
            "                 all       1652       1667      0.989       0.99      0.995      0.664\n",
            "\n",
            "     Epoch   gpu_mem       box       obj       cls    labels  img_size\n",
            "      8/29     4.28G   0.02324  0.004698         0        25       320: 100% 207/207 [00:49<00:00,  4.17it/s]\n",
            "               Class     Images     Labels          P          R     mAP@.5 mAP@.5:.95: 100% 26/26 [00:06<00:00,  3.78it/s]\n",
            "                 all       1652       1667      0.991       0.99      0.994      0.686\n",
            "\n",
            "     Epoch   gpu_mem       box       obj       cls    labels  img_size\n",
            "      9/29     4.28G   0.02233  0.004657         0        32       320: 100% 207/207 [00:47<00:00,  4.32it/s]\n",
            "               Class     Images     Labels          P          R     mAP@.5 mAP@.5:.95: 100% 26/26 [00:06<00:00,  3.94it/s]\n",
            "                 all       1652       1667      0.994      0.994      0.995      0.685\n",
            "\n",
            "     Epoch   gpu_mem       box       obj       cls    labels  img_size\n",
            "     10/29     4.28G   0.02194  0.004573         0        29       320: 100% 207/207 [00:48<00:00,  4.30it/s]\n",
            "               Class     Images     Labels          P          R     mAP@.5 mAP@.5:.95: 100% 26/26 [00:06<00:00,  4.04it/s]\n",
            "                 all       1652       1667      0.992       0.99      0.995      0.688\n",
            "\n",
            "     Epoch   gpu_mem       box       obj       cls    labels  img_size\n",
            "     11/29     4.28G   0.02159  0.004478         0        29       320: 100% 207/207 [00:47<00:00,  4.31it/s]\n",
            "               Class     Images     Labels          P          R     mAP@.5 mAP@.5:.95: 100% 26/26 [00:06<00:00,  4.04it/s]\n",
            "                 all       1652       1667      0.995      0.993      0.994      0.704\n",
            "\n",
            "     Epoch   gpu_mem       box       obj       cls    labels  img_size\n",
            "     12/29     4.28G   0.02141  0.004457         0        34       320: 100% 207/207 [00:47<00:00,  4.33it/s]\n",
            "               Class     Images     Labels          P          R     mAP@.5 mAP@.5:.95: 100% 26/26 [00:06<00:00,  4.04it/s]\n",
            "                 all       1652       1667      0.992      0.992      0.994      0.691\n",
            "\n",
            "     Epoch   gpu_mem       box       obj       cls    labels  img_size\n",
            "     13/29     4.28G   0.02103  0.004359         0        26       320: 100% 207/207 [00:49<00:00,  4.21it/s]\n",
            "               Class     Images     Labels          P          R     mAP@.5 mAP@.5:.95: 100% 26/26 [00:06<00:00,  4.08it/s]\n",
            "                 all       1652       1667      0.998      0.989      0.995      0.694\n",
            "\n",
            "     Epoch   gpu_mem       box       obj       cls    labels  img_size\n",
            "     14/29     4.28G    0.0207  0.004329         0        35       320: 100% 207/207 [00:48<00:00,  4.30it/s]\n",
            "               Class     Images     Labels          P          R     mAP@.5 mAP@.5:.95: 100% 26/26 [00:06<00:00,  4.06it/s]\n",
            "                 all       1652       1667      0.995      0.991      0.994      0.701\n",
            "\n",
            "     Epoch   gpu_mem       box       obj       cls    labels  img_size\n",
            "     15/29     4.28G   0.02036  0.004315         0        20       320: 100% 207/207 [00:47<00:00,  4.32it/s]\n",
            "               Class     Images     Labels          P          R     mAP@.5 mAP@.5:.95: 100% 26/26 [00:06<00:00,  4.06it/s]\n",
            "                 all       1652       1667      0.997      0.991      0.994      0.699\n",
            "\n",
            "     Epoch   gpu_mem       box       obj       cls    labels  img_size\n",
            "     16/29     4.28G   0.02014  0.004291         0        22       320: 100% 207/207 [00:47<00:00,  4.33it/s]\n",
            "               Class     Images     Labels          P          R     mAP@.5 mAP@.5:.95: 100% 26/26 [00:06<00:00,  4.08it/s]\n",
            "                 all       1652       1667      0.996       0.99      0.994      0.709\n",
            "\n",
            "     Epoch   gpu_mem       box       obj       cls    labels  img_size\n",
            "     17/29     4.28G   0.01987  0.004318         0        32       320: 100% 207/207 [00:47<00:00,  4.32it/s]\n",
            "               Class     Images     Labels          P          R     mAP@.5 mAP@.5:.95: 100% 26/26 [00:06<00:00,  4.07it/s]\n",
            "                 all       1652       1667      0.992      0.996      0.994      0.709\n",
            "\n",
            "     Epoch   gpu_mem       box       obj       cls    labels  img_size\n",
            "     18/29     4.28G    0.0197  0.004192         0        31       320: 100% 207/207 [00:47<00:00,  4.33it/s]\n",
            "               Class     Images     Labels          P          R     mAP@.5 mAP@.5:.95: 100% 26/26 [00:06<00:00,  4.01it/s]\n",
            "                 all       1652       1667       0.99      0.993      0.994      0.702\n",
            "\n",
            "     Epoch   gpu_mem       box       obj       cls    labels  img_size\n",
            "     19/29     4.28G   0.01947  0.004135         0        29       320: 100% 207/207 [00:49<00:00,  4.21it/s]\n",
            "               Class     Images     Labels          P          R     mAP@.5 mAP@.5:.95: 100% 26/26 [00:06<00:00,  4.08it/s]\n",
            "                 all       1652       1667      0.996      0.993      0.994      0.712\n",
            "\n",
            "     Epoch   gpu_mem       box       obj       cls    labels  img_size\n",
            "     20/29     4.28G   0.01915  0.004193         0        28       320: 100% 207/207 [00:47<00:00,  4.33it/s]\n",
            "               Class     Images     Labels          P          R     mAP@.5 mAP@.5:.95: 100% 26/26 [00:06<00:00,  4.10it/s]\n",
            "                 all       1652       1667      0.993      0.997      0.994      0.713\n",
            "\n",
            "     Epoch   gpu_mem       box       obj       cls    labels  img_size\n",
            "     21/29     4.28G   0.01887  0.004138         0        30       320: 100% 207/207 [00:47<00:00,  4.34it/s]\n",
            "               Class     Images     Labels          P          R     mAP@.5 mAP@.5:.95: 100% 26/26 [00:06<00:00,  4.09it/s]\n",
            "                 all       1652       1667      0.995      0.993      0.995      0.718\n",
            "\n",
            "     Epoch   gpu_mem       box       obj       cls    labels  img_size\n",
            "     22/29     4.28G   0.01882  0.004118         0        37       320: 100% 207/207 [00:47<00:00,  4.31it/s]\n",
            "               Class     Images     Labels          P          R     mAP@.5 mAP@.5:.95: 100% 26/26 [00:06<00:00,  4.09it/s]\n",
            "                 all       1652       1667      0.995      0.996      0.994      0.714\n",
            "\n",
            "     Epoch   gpu_mem       box       obj       cls    labels  img_size\n",
            "     23/29     4.28G   0.01852  0.004122         0        27       320: 100% 207/207 [00:47<00:00,  4.33it/s]\n",
            "               Class     Images     Labels          P          R     mAP@.5 mAP@.5:.95: 100% 26/26 [00:06<00:00,  4.10it/s]\n",
            "                 all       1652       1667      0.995      0.993      0.994      0.713\n",
            "\n",
            "     Epoch   gpu_mem       box       obj       cls    labels  img_size\n",
            "     24/29     4.28G   0.01826   0.00413         0        27       320: 100% 207/207 [00:48<00:00,  4.30it/s]\n",
            "               Class     Images     Labels          P          R     mAP@.5 mAP@.5:.95: 100% 26/26 [00:06<00:00,  4.07it/s]\n",
            "                 all       1652       1667      0.995      0.995      0.994      0.715\n",
            "\n",
            "     Epoch   gpu_mem       box       obj       cls    labels  img_size\n",
            "     25/29     4.28G   0.01809  0.004026         0        27       320: 100% 207/207 [00:49<00:00,  4.16it/s]\n",
            "               Class     Images     Labels          P          R     mAP@.5 mAP@.5:.95: 100% 26/26 [00:06<00:00,  4.09it/s]\n",
            "                 all       1652       1667      0.995      0.995      0.994      0.718\n",
            "\n",
            "     Epoch   gpu_mem       box       obj       cls    labels  img_size\n",
            "     26/29     4.28G   0.01767  0.003969         0        30       320: 100% 207/207 [00:48<00:00,  4.25it/s]\n",
            "               Class     Images     Labels          P          R     mAP@.5 mAP@.5:.95: 100% 26/26 [00:06<00:00,  4.12it/s]\n",
            "                 all       1652       1667      0.993      0.995      0.994      0.712\n",
            "\n",
            "     Epoch   gpu_mem       box       obj       cls    labels  img_size\n",
            "     27/29     4.28G   0.01759  0.003987         0        32       320: 100% 207/207 [00:47<00:00,  4.33it/s]\n",
            "               Class     Images     Labels          P          R     mAP@.5 mAP@.5:.95: 100% 26/26 [00:06<00:00,  4.13it/s]\n",
            "                 all       1652       1667      0.995      0.997      0.994      0.719\n",
            "\n",
            "     Epoch   gpu_mem       box       obj       cls    labels  img_size\n",
            "     28/29     4.28G   0.01768  0.003936         0        28       320: 100% 207/207 [00:48<00:00,  4.23it/s]\n",
            "               Class     Images     Labels          P          R     mAP@.5 mAP@.5:.95: 100% 26/26 [00:06<00:00,  4.08it/s]\n",
            "                 all       1652       1667      0.993      0.996      0.994       0.72\n",
            "\n",
            "     Epoch   gpu_mem       box       obj       cls    labels  img_size\n",
            "     29/29     4.28G   0.01716  0.003923         0        32       320: 100% 207/207 [00:49<00:00,  4.20it/s]\n",
            "               Class     Images     Labels          P          R     mAP@.5 mAP@.5:.95: 100% 26/26 [00:06<00:00,  4.12it/s]\n",
            "                 all       1652       1667      0.995      0.995      0.994      0.717\n",
            "\n",
            "30 epochs completed in 0.469 hours.\n",
            "Optimizer stripped from runs/train/exp56/weights/last.pt, 42.1MB\n",
            "Optimizer stripped from runs/train/exp56/weights/best.pt, 42.1MB\n",
            "\n",
            "Validating runs/train/exp56/weights/best.pt...\n",
            "Fusing layers... \n",
            "Model summary: 290 layers, 20852934 parameters, 0 gradients, 47.9 GFLOPs\n",
            "               Class     Images     Labels          P          R     mAP@.5 mAP@.5:.95: 100% 26/26 [00:08<00:00,  3.11it/s]\n",
            "                 all       1652       1667      0.993      0.996      0.994       0.72\n",
            "Results saved to \u001b[1mruns/train/exp56\u001b[0m\n"
          ]
        }
      ],
      "source": [
        "# Train YOLOv5\n",
        "!python train.py --img 320 --batch 32 --epochs 30 --data /yolov5/data/LP_detection.yaml --weights yolov5m.pt --cache"
      ]
    }
  ],
  "metadata": {
    "accelerator": "GPU",
    "colab": {
      "collapsed_sections": [],
      "name": "Plate_detection",
      "provenance": []
    },
    "kernelspec": {
      "display_name": "Python 3",
      "name": "python3"
    }
  },
  "nbformat": 4,
  "nbformat_minor": 0
}
